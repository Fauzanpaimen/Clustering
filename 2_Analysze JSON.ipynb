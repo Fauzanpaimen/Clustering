{
 "cells": [
  {
   "cell_type": "markdown",
   "metadata": {},
   "source": [
    "### Analyzing JSON Output\n",
    "\n",
    "this script organize the information from JSON output into a tabular form then save into excel file\n"
   ]
  },
  {
   "cell_type": "code",
   "execution_count": 3,
   "metadata": {},
   "outputs": [
    {
     "name": "stdout",
     "output_type": "stream",
     "text": [
      "Table saved to 05_Excel_Output_Sample/01_JSONOutput.xlsx\n"
     ]
    }
   ],
   "source": [
    "import os\n",
    "import json\n",
    "import pandas as pd\n",
    "\n",
    "def read_json_folder(input_folder):\n",
    "    data_list = []\n",
    "\n",
    "    for json_file in os.listdir(input_folder):\n",
    "        if json_file.endswith('.json'):\n",
    "            json_path = os.path.join(input_folder, json_file)\n",
    "            pdf_name = os.path.splitext(json_file)[0].rsplit('_page', 1)[0]  # Extract PDF name from the file name\n",
    "            with open(json_path, 'r') as json_file:\n",
    "                data = json.load(json_file)\n",
    "                data['pdf_name'] = pdf_name\n",
    "                data_list.append(data)\n",
    "\n",
    "    return data_list\n",
    "\n",
    "def create_table(data_list):\n",
    "    table_data = []\n",
    "\n",
    "    for data in data_list:\n",
    "        try:\n",
    "            page_number = data['page_number']\n",
    "            pdf_name = data.get('pdf_name', 'Unknown')  # Use 'Unknown' if pdf_name is not present\n",
    "            for word_info in data['words']:\n",
    "                table_row = {\n",
    "                    'File Name & Page': f\"{pdf_name}_page{page_number}\",\n",
    "                    'Word': word_info['word'],\n",
    "                    'X0': int(word_info['x0']),\n",
    "                    'Y0': int(word_info['y0']),\n",
    "                    'X1': int(word_info['x1']),\n",
    "                    'Y1': int(word_info['y1']),\n",
    "                    'X': int(word_info['x1'] - ((word_info['x1'] - word_info['x0'])/2)),\n",
    "                    'Y': int(word_info['y1'] - ((word_info['y1'] - word_info['y0'])/2)),\n",
    "                    'Coordinate': f\"({int(word_info['x1'] - ((word_info['x1'] - word_info['x0'])/2))}, {int(word_info['y1'] - ((word_info['y1'] - word_info['y0'])/2))})\"\n",
    "                }\n",
    "                table_data.append(table_row)\n",
    "        except KeyError:\n",
    "            print(f\"Skipping invalid JSON file: {data}\")\n",
    "\n",
    "    return pd.DataFrame(table_data)\n",
    "\n",
    "# Folder that store the JSON\n",
    "json_folder = '02_JSON_Sample'\n",
    "\n",
    "json_data_list = read_json_folder(json_folder)\n",
    "table = create_table(json_data_list)\n",
    "\n",
    "# Save the table to an Excel file\n",
    "excel_file_path = '05_Excel_Output_Sample/01_JSONOutput.xlsx'\n",
    "table.to_excel(excel_file_path, index=False)\n",
    "\n",
    "print(f'Table saved to {excel_file_path}')\n"
   ]
  }
 ],
 "metadata": {
  "kernelspec": {
   "display_name": "base",
   "language": "python",
   "name": "python3"
  },
  "language_info": {
   "codemirror_mode": {
    "name": "ipython",
    "version": 3
   },
   "file_extension": ".py",
   "mimetype": "text/x-python",
   "name": "python",
   "nbconvert_exporter": "python",
   "pygments_lexer": "ipython3",
   "version": "3.9.13"
  }
 },
 "nbformat": 4,
 "nbformat_minor": 2
}
