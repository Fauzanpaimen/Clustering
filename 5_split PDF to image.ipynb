{
 "cells": [
  {
   "cell_type": "markdown",
   "metadata": {},
   "source": [
    "## Convert PDF to Image"
   ]
  },
  {
   "cell_type": "code",
   "execution_count": null,
   "metadata": {},
   "outputs": [],
   "source": [
    "#pip install fitz"
   ]
  },
  {
   "cell_type": "code",
   "execution_count": null,
   "metadata": {},
   "outputs": [],
   "source": [
    "#pip install PyMuPDF"
   ]
  },
  {
   "cell_type": "code",
   "execution_count": 1,
   "metadata": {},
   "outputs": [],
   "source": [
    "import glob, sys, fitz\n",
    "from pathlib import Path\n",
    "\n",
    "# To get better resolution\n",
    "zoom_x = 2.0  # horizontal zoom\n",
    "zoom_y = 2.0  # vertical zoom\n",
    "mat = fitz.Matrix(zoom_x, zoom_y)  # zoom factor 2 in each dimension\n",
    "\n",
    "#PDF path\n",
    "path = './01_PDF_Sample/'\n",
    "all_files = glob.glob(path + \"*.pdf\")\n",
    "\n",
    "\n",
    "for filename in all_files:\n",
    "    doc = fitz.open(filename)\n",
    "    for page in doc:  # iterate through the pages\n",
    "        pix = page.get_pixmap(matrix=mat)  # render page to an image\n",
    "        x = page.number+1\n",
    "        p = Path(filename).stem #get filename without path\n",
    "        p_str = str(p)\n",
    "        pix.save(\"./03_Image_Sample/%s_page%i.jpg\" % (p_str,x)) #image path\n",
    "        #pix.save(\"./Image_Sample/%s.jpg\" % (p_str))\n",
    "        "
   ]
  },
  {
   "cell_type": "code",
   "execution_count": null,
   "metadata": {},
   "outputs": [],
   "source": []
  }
 ],
 "metadata": {
  "kernelspec": {
   "display_name": "base",
   "language": "python",
   "name": "python3"
  },
  "language_info": {
   "codemirror_mode": {
    "name": "ipython",
    "version": 3
   },
   "file_extension": ".py",
   "mimetype": "text/x-python",
   "name": "python",
   "nbconvert_exporter": "python",
   "pygments_lexer": "ipython3",
   "version": "3.9.13"
  },
  "orig_nbformat": 4,
  "vscode": {
   "interpreter": {
    "hash": "b6b55e26d66694ee583581cd321caf1a711e82b5ec509c9eb57baf2b457fe892"
   }
  }
 },
 "nbformat": 4,
 "nbformat_minor": 2
}
