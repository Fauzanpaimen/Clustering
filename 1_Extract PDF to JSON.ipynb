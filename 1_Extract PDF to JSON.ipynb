{
 "cells": [
  {
   "cell_type": "markdown",
   "metadata": {},
   "source": [
    "### Extracting PDF to JSON\n",
    "\n",
    "<p>This function processes PDF files in the input folder,extracts words and coordinates from them, and saves the<br>\n",
    "extracted data as JSON files in the output folder.</p>"
   ]
  },
  {
   "cell_type": "code",
   "execution_count": null,
   "metadata": {},
   "outputs": [],
   "source": [
    "#pip install pdfquery"
   ]
  },
  {
   "cell_type": "code",
   "execution_count": 6,
   "metadata": {},
   "outputs": [],
   "source": [
    "import os\n",
    "import pdfplumber\n",
    "import json\n",
    "\n",
    "def extract_words_and_coordinates(pdf_path):\n",
    "    extracted_data = []\n",
    "\n",
    "    with pdfplumber.open(pdf_path) as pdf:\n",
    "        for page_num, page in enumerate(pdf.pages, start=1):\n",
    "            page_data = {'page_number': page_num, 'words': []}\n",
    "\n",
    "            words = page.extract_words()\n",
    "            for word in words:\n",
    "                word_info = {\n",
    "                    'word': word['text'],\n",
    "                    'x0': word['x0'],\n",
    "                    'y0': word['top'],\n",
    "                    'x1': word['x1'],\n",
    "                    'y1': word['bottom']\n",
    "                }\n",
    "                page_data['words'].append(word_info)\n",
    "\n",
    "            extracted_data.append(page_data)\n",
    "\n",
    "    return extracted_data\n",
    "\n",
    "def save_to_json(data, json_path):\n",
    "    with open(json_path, 'w') as json_file:\n",
    "        json.dump(data, json_file, indent=2)\n",
    "\n",
    "def process_pdfs(input_folder, output_folder):\n",
    "    for pdf_file in os.listdir(input_folder):\n",
    "        if pdf_file.endswith('.pdf'):\n",
    "            pdf_path = os.path.join(input_folder, pdf_file)\n",
    "            extracted_data = extract_words_and_coordinates(pdf_path)\n",
    "            \n",
    "            pdf_name = os.path.splitext(pdf_file)[0]\n",
    "            \n",
    "            for page_data in extracted_data:\n",
    "                page_num = page_data['page_number']\n",
    "                output_json_path = os.path.join(output_folder, f'{pdf_name}_page{page_num}.json')\n",
    "                save_to_json(page_data, output_json_path)\n",
    "\n",
    "#folder path for PDF and JSON\n",
    "PDF_folder = '01_PDF_Sample'\n",
    "JSON_folder = '02_JSON_Sample'\n",
    "\n",
    "#create JSON folder if not exist\n",
    "if not os.path.exists(JSON_folder):\n",
    "    os.makedirs(JSON_folder)"
   ]
  },
  {
   "cell_type": "code",
   "execution_count": 7,
   "metadata": {},
   "outputs": [],
   "source": [
    "process_pdfs(PDF_folder, JSON_folder)"
   ]
  }
 ],
 "metadata": {
  "kernelspec": {
   "display_name": "base",
   "language": "python",
   "name": "python3"
  },
  "language_info": {
   "codemirror_mode": {
    "name": "ipython",
    "version": 3
   },
   "file_extension": ".py",
   "mimetype": "text/x-python",
   "name": "python",
   "nbconvert_exporter": "python",
   "pygments_lexer": "ipython3",
   "version": "3.9.13"
  }
 },
 "nbformat": 4,
 "nbformat_minor": 2
}
