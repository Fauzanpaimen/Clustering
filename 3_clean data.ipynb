{
 "cells": [
  {
   "cell_type": "markdown",
   "metadata": {},
   "source": [
    "### Data Cleaning"
   ]
  },
  {
   "cell_type": "code",
   "execution_count": 3,
   "metadata": {},
   "outputs": [
    {
     "name": "stdout",
     "output_type": "stream",
     "text": [
      "Data saved to 05_Excel_Output_Sample/02_JSONOutputmerged.xlsx\n"
     ]
    }
   ],
   "source": [
    "import pandas as pd\n",
    "\n",
    "# Replace 'your_excel_file.xlsx' with the actual path to your Excel file\n",
    "excel_file_path = '05_Excel_Output_Sample/01_JSONOutput.xlsx'\n",
    "\n",
    "# Reading the Excel file\n",
    "df = pd.read_excel(excel_file_path)\n",
    "\n",
    "df['NameFactorized'] = pd.factorize(df['File Name & Page'])[0]\n",
    "df['WordFactorized'] = pd.factorize(df['Word'])[0]\n",
    "df['CoordinateFactorized'] = pd.factorize(df['Coordinate'])[0]\n",
    "\n",
    "# Combine columns 'A', 'B', and 'C' into a new column 'Combined'\n",
    "df['Combined'] = df.apply(lambda row: f\"{row['WordFactorized']} , {row['Coordinate']} \", axis=1)\n",
    "\n",
    "df['CombinedFactorized'] = pd.factorize(df['Combined'])[0]\n",
    "\n",
    "# Count occurrences of each value in the 'CombinedFactorized' column\n",
    "count_series = df['CombinedFactorized'].value_counts()\n",
    "\n",
    "# Convert the Series to a DataFrame\n",
    "count_df = count_series.reset_index()\n",
    "\n",
    "# Rename the columns to 'CombinedFactorized' and 'count'\n",
    "count_df.columns = ['CombinedFactorized', 'count']\n",
    "\n",
    "# Merge the count DataFrame with the original DataFrame on the 'CombinedFactorized' column\n",
    "merged_df = df.merge(count_df, on='CombinedFactorized', how='left')\n",
    "\n",
    "# Save the merged DataFrame to an Excel file\n",
    "output_excel_file_path = '05_Excel_Output_Sample/02_JSONOutputmerged.xlsx'  # Change to your desired output file path\n",
    "merged_df.to_excel(output_excel_file_path, index=False)\n",
    "\n",
    "print(f\"Data saved to {output_excel_file_path}\")"
   ]
  },
  {
   "cell_type": "code",
   "execution_count": 4,
   "metadata": {},
   "outputs": [
    {
     "name": "stdout",
     "output_type": "stream",
     "text": [
      "                                        File Name & Page      Word   X0   Y0  \\\n",
      "0         1482H-2018-11-22-PRBI-CL2121A-01-BB-VI 3_page1       AIM    6    6   \n",
      "1         1482H-2018-11-22-PRBI-CL2121A-01-BB-VI 3_page1      Form   20    6   \n",
      "2         1482H-2018-11-22-PRBI-CL2121A-01-BB-VI 3_page1         1   39    6   \n",
      "3         1482H-2018-11-22-PRBI-CL2121A-01-BB-VI 3_page1     Rev.3  393    4   \n",
      "4         1482H-2018-11-22-PRBI-CL2121A-01-BB-VI 3_page1       Jun  413    4   \n",
      "...                                                  ...       ...  ...  ...   \n",
      "133486  PPMSB-PESB-2022-09-U25-E25218-SSIPSR2-UTTM_page2  Internal   17  769   \n",
      "133487  PPMSB-PESB-2022-09-U25-E25218-SSIPSR2-UTTM_page2      Page  566  768   \n",
      "133488  PPMSB-PESB-2022-09-U25-E25218-SSIPSR2-UTTM_page2         2  579  768   \n",
      "133489  PPMSB-PESB-2022-09-U25-E25218-SSIPSR2-UTTM_page2        of  584  768   \n",
      "133490  PPMSB-PESB-2022-09-U25-E25218-SSIPSR2-UTTM_page2         2  590  768   \n",
      "\n",
      "         X1   Y1    X    Y  Coordinate  NameFactorized  WordFactorized  \\\n",
      "0        17   13   12    9     (12, 9)               0               0   \n",
      "1        37   13   28    9     (28, 9)               0               1   \n",
      "2        43   13   41    9     (41, 9)               0               2   \n",
      "3       411   11  402    8    (402, 8)               0               3   \n",
      "4       424   11  419    8    (419, 8)               0               4   \n",
      "...     ...  ...  ...  ...         ...             ...             ...   \n",
      "133486   33  773   25  771   (25, 771)            1153              55   \n",
      "133487  578  773  572  770  (572, 770)            1153             387   \n",
      "133488  582  773  581  770  (581, 770)            1153             106   \n",
      "133489  588  773  586  770  (586, 770)            1153              40   \n",
      "133490  593  773  591  770  (591, 770)            1153             106   \n",
      "\n",
      "        CoordinateFactorized           Combined  CombinedFactorized  count  \n",
      "0                          0       0 , (12, 9)                    0     92  \n",
      "1                          1       1 , (28, 9)                    1     87  \n",
      "2                          2       2 , (41, 9)                    2     87  \n",
      "3                          3      3 , (402, 8)                    3     97  \n",
      "4                          4      4 , (419, 8)                    4     91  \n",
      "...                      ...                ...                 ...    ...  \n",
      "133486                 30611    55 , (25, 771)                43056      4  \n",
      "133487                 30612  387 , (572, 770)                43057      4  \n",
      "133488                 23501  106 , (581, 770)                33130      3  \n",
      "133489                 20149   40 , (586, 770)                28121      7  \n",
      "133490                  8429  106 , (591, 770)                29163      8  \n",
      "\n",
      "[99477 rows x 15 columns]\n"
     ]
    }
   ],
   "source": [
    "filtered_result = merged_df[~merged_df['count'].isin([1])]\n",
    "\n",
    "# Print the filtered result\n",
    "print(filtered_result)\n",
    "\n",
    "output_excel_path = '05_Excel_Output_Sample/03_JSONOutputcleaned.xlsx'\n",
    "filtered_result.to_excel(output_excel_path, index=False)"
   ]
  }
 ],
 "metadata": {
  "kernelspec": {
   "display_name": "base",
   "language": "python",
   "name": "python3"
  },
  "language_info": {
   "codemirror_mode": {
    "name": "ipython",
    "version": 3
   },
   "file_extension": ".py",
   "mimetype": "text/x-python",
   "name": "python",
   "nbconvert_exporter": "python",
   "pygments_lexer": "ipython3",
   "version": "3.9.13"
  }
 },
 "nbformat": 4,
 "nbformat_minor": 2
}
